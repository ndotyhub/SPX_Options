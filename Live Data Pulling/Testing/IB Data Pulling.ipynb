{
 "cells": [
  {
   "cell_type": "code",
   "execution_count": 8,
   "metadata": {},
   "outputs": [],
   "source": [
    "# Importing necessary models\n",
    "import pandas as pd\n",
    "import numpy as np\n",
    "import datetime as dt\n",
    "import pandas.stats.moments as st\n",
    "from pandas import ExcelWriter\n",
    "import matplotlib.pyplot as plt\n",
    "import os\n",
    "# import matplotlib.ticker as ticker\n",
    "from alpha_vantage.timeseries import TimeSeries\n",
    "%matplotlib inline\n",
    "import requests\n",
    "from ib.opt import Connection"
   ]
  },
  {
   "cell_type": "code",
   "execution_count": 10,
   "metadata": {},
   "outputs": [
    {
     "name": "stdout",
     "output_type": "stream",
     "text": [
      "Server Version: 76\n",
      "TWS Time at connection:20180508 16:39:46 PST\n",
      "<managedAccounts accountsList=DU504208>\n",
      "<nextValidId orderId=1>\n",
      "<error id=-1, errorCode=2104, errorMsg=Market data farm connection is OK:usfarm>\n",
      "<error id=-1, errorCode=2106, errorMsg=HMDS data farm connection is OK:ilhmds>\n",
      "<error id=-1, errorCode=2106, errorMsg=HMDS data farm connection is OK:euhmds>\n",
      "<error id=-1, errorCode=2106, errorMsg=HMDS data farm connection is OK:fundfarm>\n",
      "<error id=-1, errorCode=2106, errorMsg=HMDS data farm connection is OK:ushmds>\n"
     ]
    }
   ],
   "source": [
    "def print_message_from_ib(msg):\n",
    "    print(msg)\n",
    "    \n",
    "def main():\n",
    "    conn = Connection.create(port=7496, clientId=999)\n",
    "    conn.registerAll(print_message_from_ib)\n",
    "    conn.connect()\n",
    "    \n",
    "    #In future blog posts, this is where we'll write code that actually does\n",
    "    #something useful, like place orders, get real-time prices, etc.\n",
    "    \n",
    "    import time\n",
    "    time.sleep(1) #Simply to give the program time to print messages sent from IB\n",
    "    conn.disconnect()\n",
    "    \n",
    "if __name__ == \"__main__\": main()"
   ]
  },
  {
   "cell_type": "code",
   "execution_count": null,
   "metadata": {
    "collapsed": true
   },
   "outputs": [],
   "source": []
  }
 ],
 "metadata": {
  "kernelspec": {
   "display_name": "Python 3",
   "language": "python",
   "name": "python3"
  },
  "language_info": {
   "codemirror_mode": {
    "name": "ipython",
    "version": 3
   },
   "file_extension": ".py",
   "mimetype": "text/x-python",
   "name": "python",
   "nbconvert_exporter": "python",
   "pygments_lexer": "ipython3",
   "version": "3.6.1"
  }
 },
 "nbformat": 4,
 "nbformat_minor": 2
}
